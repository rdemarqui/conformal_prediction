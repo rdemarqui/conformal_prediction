{
 "cells": [
  {
   "cell_type": "code",
   "execution_count": 15,
   "id": "61d7404b-1874-4398-ad2a-9f7b9403def5",
   "metadata": {},
   "outputs": [],
   "source": [
    "import os\n",
    "import wget\n",
    "import zipfile\n",
    "from os.path import exists"
   ]
  },
  {
   "cell_type": "markdown",
   "id": "e3e09709-8fa8-49a5-9fdb-5e8e374fa213",
   "metadata": {},
   "source": [
    "### Chapter 5"
   ]
  },
  {
   "cell_type": "markdown",
   "id": "e2a859a7-885c-4b74-9b40-10e1e345a769",
   "metadata": {},
   "source": [
    "#### Legacy Model"
   ]
  },
  {
   "cell_type": "code",
   "execution_count": 18,
   "id": "2e07dd40-ed32-4737-85c4-422ecf8d6624",
   "metadata": {},
   "outputs": [],
   "source": [
    "# Download if not available\n",
    "bean_data_file = \"./DryBeanDataset/Dry_Bean_Dataset.xlsx\"\n",
    "base = \"https://archive.ics.uci.edu/ml/machine-learning-databases/\"\n",
    "dataset_number = \"00602\"\n",
    "if not exists(bean_data_file):\n",
    "    filename = \"DryBeanDataset.zip\"\n",
    "    url = base + dataset_number + \"/\" + filename\n",
    "    wget.download(url)\n",
    "    with zipfile.ZipFile(filename, 'r') as zip_ref:\n",
    "        zip_ref.extractall('./')\n",
    "    os.remove(filename)"
   ]
  },
  {
   "cell_type": "code",
   "execution_count": 37,
   "id": "d183c54c-2cf3-452d-8dad-42fdf2195fb3",
   "metadata": {},
   "outputs": [
    {
     "name": "stdout",
     "output_type": "stream",
     "text": [
      "(13611, 17)\n"
     ]
    },
    {
     "data": {
      "text/html": [
       "<div>\n",
       "<style scoped>\n",
       "    .dataframe tbody tr th:only-of-type {\n",
       "        vertical-align: middle;\n",
       "    }\n",
       "\n",
       "    .dataframe tbody tr th {\n",
       "        vertical-align: top;\n",
       "    }\n",
       "\n",
       "    .dataframe thead th {\n",
       "        text-align: right;\n",
       "    }\n",
       "</style>\n",
       "<table border=\"1\" class=\"dataframe\">\n",
       "  <thead>\n",
       "    <tr style=\"text-align: right;\">\n",
       "      <th></th>\n",
       "      <th>Area</th>\n",
       "      <th>Perimeter</th>\n",
       "      <th>MajorAxisLength</th>\n",
       "      <th>MinorAxisLength</th>\n",
       "      <th>AspectRation</th>\n",
       "      <th>Eccentricity</th>\n",
       "      <th>ConvexArea</th>\n",
       "      <th>EquivDiameter</th>\n",
       "      <th>Extent</th>\n",
       "      <th>Solidity</th>\n",
       "      <th>roundness</th>\n",
       "      <th>Compactness</th>\n",
       "      <th>ShapeFactor1</th>\n",
       "      <th>ShapeFactor2</th>\n",
       "      <th>ShapeFactor3</th>\n",
       "      <th>ShapeFactor4</th>\n",
       "      <th>Class</th>\n",
       "    </tr>\n",
       "  </thead>\n",
       "  <tbody>\n",
       "    <tr>\n",
       "      <th>0</th>\n",
       "      <td>28395</td>\n",
       "      <td>610.291</td>\n",
       "      <td>208.178117</td>\n",
       "      <td>173.888747</td>\n",
       "      <td>1.197191</td>\n",
       "      <td>0.549812</td>\n",
       "      <td>28715</td>\n",
       "      <td>190.141097</td>\n",
       "      <td>0.763923</td>\n",
       "      <td>0.988856</td>\n",
       "      <td>0.958027</td>\n",
       "      <td>0.913358</td>\n",
       "      <td>0.007332</td>\n",
       "      <td>0.003147</td>\n",
       "      <td>0.834222</td>\n",
       "      <td>0.998724</td>\n",
       "      <td>5</td>\n",
       "    </tr>\n",
       "    <tr>\n",
       "      <th>1</th>\n",
       "      <td>28734</td>\n",
       "      <td>638.018</td>\n",
       "      <td>200.524796</td>\n",
       "      <td>182.734419</td>\n",
       "      <td>1.097356</td>\n",
       "      <td>0.411785</td>\n",
       "      <td>29172</td>\n",
       "      <td>191.272750</td>\n",
       "      <td>0.783968</td>\n",
       "      <td>0.984986</td>\n",
       "      <td>0.887034</td>\n",
       "      <td>0.953861</td>\n",
       "      <td>0.006979</td>\n",
       "      <td>0.003564</td>\n",
       "      <td>0.909851</td>\n",
       "      <td>0.998430</td>\n",
       "      <td>5</td>\n",
       "    </tr>\n",
       "    <tr>\n",
       "      <th>2</th>\n",
       "      <td>29380</td>\n",
       "      <td>624.110</td>\n",
       "      <td>212.826130</td>\n",
       "      <td>175.931143</td>\n",
       "      <td>1.209713</td>\n",
       "      <td>0.562727</td>\n",
       "      <td>29690</td>\n",
       "      <td>193.410904</td>\n",
       "      <td>0.778113</td>\n",
       "      <td>0.989559</td>\n",
       "      <td>0.947849</td>\n",
       "      <td>0.908774</td>\n",
       "      <td>0.007244</td>\n",
       "      <td>0.003048</td>\n",
       "      <td>0.825871</td>\n",
       "      <td>0.999066</td>\n",
       "      <td>5</td>\n",
       "    </tr>\n",
       "    <tr>\n",
       "      <th>3</th>\n",
       "      <td>30008</td>\n",
       "      <td>645.884</td>\n",
       "      <td>210.557999</td>\n",
       "      <td>182.516516</td>\n",
       "      <td>1.153638</td>\n",
       "      <td>0.498616</td>\n",
       "      <td>30724</td>\n",
       "      <td>195.467062</td>\n",
       "      <td>0.782681</td>\n",
       "      <td>0.976696</td>\n",
       "      <td>0.903936</td>\n",
       "      <td>0.928329</td>\n",
       "      <td>0.007017</td>\n",
       "      <td>0.003215</td>\n",
       "      <td>0.861794</td>\n",
       "      <td>0.994199</td>\n",
       "      <td>5</td>\n",
       "    </tr>\n",
       "    <tr>\n",
       "      <th>4</th>\n",
       "      <td>30140</td>\n",
       "      <td>620.134</td>\n",
       "      <td>201.847882</td>\n",
       "      <td>190.279279</td>\n",
       "      <td>1.060798</td>\n",
       "      <td>0.333680</td>\n",
       "      <td>30417</td>\n",
       "      <td>195.896503</td>\n",
       "      <td>0.773098</td>\n",
       "      <td>0.990893</td>\n",
       "      <td>0.984877</td>\n",
       "      <td>0.970516</td>\n",
       "      <td>0.006697</td>\n",
       "      <td>0.003665</td>\n",
       "      <td>0.941900</td>\n",
       "      <td>0.999166</td>\n",
       "      <td>5</td>\n",
       "    </tr>\n",
       "  </tbody>\n",
       "</table>\n",
       "</div>"
      ],
      "text/plain": [
       "    Area  Perimeter  MajorAxisLength  MinorAxisLength  AspectRation  \\\n",
       "0  28395    610.291       208.178117       173.888747      1.197191   \n",
       "1  28734    638.018       200.524796       182.734419      1.097356   \n",
       "2  29380    624.110       212.826130       175.931143      1.209713   \n",
       "3  30008    645.884       210.557999       182.516516      1.153638   \n",
       "4  30140    620.134       201.847882       190.279279      1.060798   \n",
       "\n",
       "   Eccentricity  ConvexArea  EquivDiameter    Extent  Solidity  roundness  \\\n",
       "0      0.549812       28715     190.141097  0.763923  0.988856   0.958027   \n",
       "1      0.411785       29172     191.272750  0.783968  0.984986   0.887034   \n",
       "2      0.562727       29690     193.410904  0.778113  0.989559   0.947849   \n",
       "3      0.498616       30724     195.467062  0.782681  0.976696   0.903936   \n",
       "4      0.333680       30417     195.896503  0.773098  0.990893   0.984877   \n",
       "\n",
       "   Compactness  ShapeFactor1  ShapeFactor2  ShapeFactor3  ShapeFactor4  Class  \n",
       "0     0.913358      0.007332      0.003147      0.834222      0.998724      5  \n",
       "1     0.953861      0.006979      0.003564      0.909851      0.998430      5  \n",
       "2     0.908774      0.007244      0.003048      0.825871      0.999066      5  \n",
       "3     0.928329      0.007017      0.003215      0.861794      0.994199      5  \n",
       "4     0.970516      0.006697      0.003665      0.941900      0.999166      5  "
      ]
     },
     "execution_count": 37,
     "metadata": {},
     "output_type": "execute_result"
    }
   ],
   "source": [
    "import pandas as pd\n",
    "import numpy as np\n",
    "from sklearn.model_selection import train_test_split\n",
    "from sklearn.preprocessing import LabelEncoder\n",
    "from sklearn.naive_bayes import GaussianNB\n",
    "\n",
    "# Read in the data from Excel file\n",
    "bean_data_file = \"./DryBeanDataset/Dry_Bean_Dataset.xlsx\"\n",
    "beans = pd.read_excel(bean_data_file)\n",
    "\n",
    "# Labels are characters but should be integers for sklearn\n",
    "le = LabelEncoder()\n",
    "beans[\"Class\"] = le.fit_transform(beans[\"Class\"])\n",
    "\n",
    "print(beans.shape)\n",
    "len(beans['Class'].unique())\n",
    "beans.head()"
   ]
  },
  {
   "cell_type": "code",
   "execution_count": 38,
   "id": "daadafdc-f823-4588-9838-30d5b733b2f7",
   "metadata": {},
   "outputs": [
    {
     "name": "stdout",
     "output_type": "stream",
     "text": [
      "(10000, 16) (1000, 16) (1000, 16) (1611, 16)\n"
     ]
    }
   ],
   "source": [
    "# Split data into classification target and features\n",
    "y = beans[\"Class\"]\n",
    "X = beans.drop(\"Class\", axis = 1)\n",
    "\n",
    "# Split of training data\n",
    "X_train, X_rest1, y_train, y_rest1 = train_test_split(\n",
    "X, y, train_size=10000, random_state=2\n",
    ")\n",
    "\n",
    "# From the remaining data, split of test data\n",
    "X_test, X_rest2, y_test, y_rest2 = train_test_split(\n",
    "X_rest1, y_rest1, train_size=1000, random_state=42\n",
    ")\n",
    "\n",
    "# Split remaining into calibration and \"new\" data\n",
    "X_calib, X_new, y_calib, y_new = train_test_split(\n",
    "X_rest2, y_rest2, train_size=1000, random_state=42\n",
    ")\n",
    "\n",
    "print(X_train.shape, X_test.shape, X_calib.shape, X_new.shape)"
   ]
  },
  {
   "cell_type": "code",
   "execution_count": 39,
   "id": "fbede92f-5cb3-4438-90e5-ea91e80bbe56",
   "metadata": {},
   "outputs": [],
   "source": [
    "# Fit the model\n",
    "model = GaussianNB().fit(X_train, y_train)"
   ]
  },
  {
   "cell_type": "code",
   "execution_count": 40,
   "id": "3ffaa8bb-9a75-4c76-ad2b-55d5fd09f798",
   "metadata": {},
   "outputs": [
    {
     "name": "stdout",
     "output_type": "stream",
     "text": [
      "Accuracy: 0.758\n",
      "          BARBUNYA  BOMBAY  CALI  DERMASON  HOROZ  SEKER  SIRA\n",
      "BARBUNYA        46       0    47         0      6      0     4\n",
      "BOMBAY           0      33     0         0      0      0     0\n",
      "CALI            20       0    81         0      3      0     0\n",
      "DERMASON         0       0     0       223      0     32     9\n",
      "HOROZ            0       0     4         3    104      0    22\n",
      "SEKER            2       0     0        26      1    127    22\n",
      "SIRA             0       0     0        10     10     21   144\n"
     ]
    }
   ],
   "source": [
    "from sklearn.metrics import confusion_matrix\n",
    "\n",
    "# Check accuracy\n",
    "y_pred = model.predict(X_test)\n",
    "print(\"Accuracy:\", (y_pred == y_test).mean())\n",
    "\n",
    "# Create the confusion matrix\n",
    "cm = confusion_matrix(y_test, y_pred)\n",
    "print(pd.DataFrame(cm, index=le.classes_, columns=le.classes_))"
   ]
  },
  {
   "cell_type": "markdown",
   "id": "df335387-9e30-455c-a30d-eb65ca2407c2",
   "metadata": {},
   "source": [
    "#### First try: a naive approach"
   ]
  },
  {
   "cell_type": "code",
   "execution_count": 41,
   "id": "eca89f47-050d-4614-a760-e6018b572278",
   "metadata": {},
   "outputs": [
    {
     "name": "stdout",
     "output_type": "stream",
     "text": [
      "0.896\n"
     ]
    }
   ],
   "source": [
    "# Get the \"probabilities\" from the model\n",
    "predictions = model.predict_proba(X_calib)\n",
    "\n",
    "# Get for each instance the highest probability\n",
    "high_prob_predictions = np.amax(predictions, axis=1)\n",
    "\n",
    "# Select the predictions where probability over 95%\n",
    "high_p_beans = np.where(high_prob_predictions >= 0.95)\n",
    "\n",
    "# Let's count how often we hit the right label\n",
    "its_a_match = (model.predict(X_calib) == y_calib)\n",
    "coverage = np.mean(its_a_match.values[high_p_beans])\n",
    "print(round(coverage, 3))"
   ]
  },
  {
   "cell_type": "markdown",
   "id": "f3bc8d0d-bb21-4887-a9f1-6446cc71dc98",
   "metadata": {},
   "source": [
    "####  Second try: conformal classification"
   ]
  },
  {
   "cell_type": "code",
   "execution_count": 49,
   "id": "f6e4c93a-ba42-482a-a744-187d38283c2f",
   "metadata": {},
   "outputs": [],
   "source": [
    "# Size of calibration data\n",
    "n = len(X_calib)\n",
    "\n",
    "# Get the probability predictions\n",
    "predictions = model.predict_proba(X_calib)\n",
    "\n",
    "# We only need the probability for the true class\n",
    "prob_true_class = predictions[np.arange(n),y_calib]\n",
    "\n",
    "# Turn into uncertainty score (larger means more uncertain)\n",
    "scores = 1 - prob_true_class"
   ]
  },
  {
   "cell_type": "code",
   "execution_count": 55,
   "id": "199fe021-fc9b-464d-b425-2892300c127a",
   "metadata": {},
   "outputs": [
    {
     "name": "stdout",
     "output_type": "stream",
     "text": [
      "0.951 0.9991\n"
     ]
    }
   ],
   "source": [
    "# Setting the alpha so that we get 95% prediction sets\n",
    "alpha = 0.05\n",
    "\n",
    "# define quantile\n",
    "q_level = np.ceil((n+1)*(1-alpha))/n\n",
    "qhat = np.quantile(scores, q_level, method='higher')\n",
    "\n",
    "print(round(q_level, 4), round(qhat, 4))"
   ]
  },
  {
   "cell_type": "code",
   "execution_count": 51,
   "id": "fbbf1aab-4e12-45e8-9583-0064f36234f0",
   "metadata": {},
   "outputs": [
    {
     "data": {
      "image/png": "[encoded data removed]",
      "text/plain": [
       "<Figure size 640x480 with 1 Axes>"
      ]
     },
     "metadata": {},
     "output_type": "display_data"
    }
   ],
   "source": [
    "import matplotlib.pyplot as plt\n",
    "\n",
    "# Get the \"probabilities\" from the model\n",
    "predictions = model.predict_proba(X_calib)\n",
    "\n",
    "# Get for each instance the actual probability of ground truth\n",
    "prob_for_true_class = predictions[np.arange(len(y_calib)),y_calib]\n",
    "\n",
    "# Create a histogram\n",
    "plt.hist(1 - prob_for_true_class, bins=30, range=(0, 1))\n",
    "\n",
    "# Add a title and labels\n",
    "plt.xlabel(\"1 - s(y,x)\")\n",
    "plt.ylabel(\"Frequency\")\n",
    "plt.show()"
   ]
  },
  {
   "cell_type": "code",
   "execution_count": 52,
   "id": "b6c5c120-bc1b-4f8f-9c4f-af2713503aca",
   "metadata": {},
   "outputs": [],
   "source": [
    "prediction_sets = (1 - model.predict_proba(X_new) <= qhat)"
   ]
  },
  {
   "cell_type": "code",
   "execution_count": 56,
   "id": "03d8651c-6ca7-4f23-8770-b2215415f65e",
   "metadata": {},
   "outputs": [
    {
     "name": "stdout",
     "output_type": "stream",
     "text": [
      "['DERMASON']\n",
      "['DERMASON']\n",
      "['DERMASON' 'SEKER']\n"
     ]
    }
   ],
   "source": [
    "for i in range(3):\n",
    "    print(le.classes_[prediction_sets[i]])"
   ]
  },
  {
   "cell_type": "markdown",
   "id": "edbb6a07-4d27-46cf-aeee-8ec8814fa552",
   "metadata": {},
   "source": [
    "#### Getting started with MAPIE"
   ]
  },
  {
   "cell_type": "code",
   "execution_count": 60,
   "id": "e481932c-f5a7-4893-bc1f-6be4b3858901",
   "metadata": {},
   "outputs": [],
   "source": [
    "from mapie.classification import MapieClassifier\n",
    "cp = MapieClassifier(estimator=model, cv=\"prefit\", method=\"score\")\n",
    "cp.fit(X_calib, y_calib)\n",
    "y_pred, y_set = cp.predict(X_new, alpha=0.05)\n",
    "y_set = np.squeeze(y_set)"
   ]
  },
  {
   "cell_type": "code",
   "execution_count": 61,
   "id": "dd11bf1e-f182-4064-9137-63de8d144a66",
   "metadata": {},
   "outputs": [
    {
     "name": "stdout",
     "output_type": "stream",
     "text": [
      "['DERMASON']\n",
      "['DERMASON']\n",
      "['DERMASON' 'SEKER']\n",
      "['DERMASON']\n",
      "['DERMASON' 'SEKER']\n"
     ]
    }
   ],
   "source": [
    "for i in range(5):\n",
    "    print(le.classes_[y_set[i]])"
   ]
  },
  {
   "cell_type": "code",
   "execution_count": 62,
   "id": "c932ac56-3f04-4be5-92a8-a71f4485a896",
   "metadata": {},
   "outputs": [
    {
     "name": "stdout",
     "output_type": "stream",
     "text": [
      "2    871\n",
      "1    506\n",
      "3    233\n",
      "4      1\n",
      "Name: count, dtype: int64\n"
     ]
    }
   ],
   "source": [
    "# first count number of classes per bean\n",
    "set_sizes = y_set.sum(axis=1)\n",
    "\n",
    "# use pandas to compute how often each size occurs\n",
    "print(pd.Series(set_sizes).value_counts())"
   ]
  },
  {
   "cell_type": "code",
   "execution_count": 64,
   "id": "b2d1b5c7-2130-4b9f-9c75-e16ec2e6ee6f",
   "metadata": {},
   "outputs": [
    {
     "name": "stdout",
     "output_type": "stream",
     "text": [
      "3    780\n",
      "2    372\n",
      "4    236\n",
      "1    222\n",
      "5      1\n",
      "Name: count, dtype: int64\n"
     ]
    }
   ],
   "source": [
    "y_pred, y_set = cp.predict(X_new, alpha=0.01)\n",
    "\n",
    "# remove the 1-dim dimension\n",
    "y_set = np.squeeze(y_set)\n",
    "\n",
    "set_sizes = y_set.sum(axis=1)\n",
    "print(pd.Series(set_sizes).value_counts())"
   ]
  },
  {
   "cell_type": "code",
   "execution_count": 65,
   "id": "da02602f-f646-42b2-a987-f059be1de22c",
   "metadata": {},
   "outputs": [
    {
     "name": "stdout",
     "output_type": "stream",
     "text": [
      "['HOROZ' 'SIRA']\n"
     ]
    }
   ],
   "source": [
    "y_pred, y_set = cp.predict(X_new, alpha=[0.1, 0.05])\n",
    "\n",
    "# get prediction sets for 10th observation and second alpha (0.05)\n",
    "print(le.classes_[y_set[10,:,1]])"
   ]
  },
  {
   "cell_type": "code",
   "execution_count": 68,
   "id": "6f676c7a-d95f-4e90-bc73-d7ecbdcda6cb",
   "metadata": {},
   "outputs": [
    {
     "name": "stdout",
     "output_type": "stream",
     "text": [
      "                 set  setsize\n",
      "0         [DERMASON]        1\n",
      "1         [DERMASON]        1\n",
      "2  [DERMASON, SEKER]        2\n",
      "3         [DERMASON]        1\n",
      "4  [DERMASON, SEKER]        2\n"
     ]
    }
   ],
   "source": [
    "y_pred, y_set = cp.predict(X_new, alpha=0.05)\n",
    "y_set = np.squeeze(y_set)\n",
    "df = pd.DataFrame()\n",
    "for i in range(len(y_pred)):\n",
    "    predset = le.classes_[y_set[i]]\n",
    "    # Create a new dataframe with the calculated values\n",
    "    temp_df = pd.DataFrame({\n",
    "        \"set\": [predset],\n",
    "        \"setsize\": [len(predset)]\n",
    "    }, index=[i])\n",
    "    # Concatenate the new dataframe with the existing one\n",
    "    df = pd.concat([df, temp_df])\n",
    "print(df.head())\n"
   ]
  },
  {
   "cell_type": "code",
   "execution_count": null,
   "id": "63a007f4-8277-44c2-9486-351c09a87789",
   "metadata": {},
   "outputs": [],
   "source": []
  }
 ],
 "metadata": {
  "kernelspec": {
   "display_name": "Python 3 (ipykernel)",
   "language": "python",
   "name": "python3"
  },
  "language_info": {
   "codemirror_mode": {
    "name": "ipython",
    "version": 3
   },
   "file_extension": ".py",
   "mimetype": "text/x-python",
   "name": "python",
   "nbconvert_exporter": "python",
   "pygments_lexer": "ipython3",
   "version": "3.11.7"
  }
 },
 "nbformat": 4,
 "nbformat_minor": 5
}
