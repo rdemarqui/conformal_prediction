{
 "cells": [
  {
   "cell_type": "code",
   "execution_count": 1,
   "id": "d1677c6a-a87d-4a74-8a60-f21aef2b1ae5",
   "metadata": {},
   "outputs": [],
   "source": [
    "import pandas as pd\n",
    "import numpy as np\n",
    "from sklearn.model_selection import train_test_split\n",
    "from sklearn.preprocessing import LabelEncoder\n",
    "from sklearn.naive_bayes import GaussianNB"
   ]
  },
  {
   "cell_type": "code",
   "execution_count": 6,
   "id": "df6bd741-8319-4863-872e-6ff719f282eb",
   "metadata": {},
   "outputs": [],
   "source": [
    "# Read in the data from Excel file\n",
    "bean_data_file = \"./DryBeanDataset/Dry_Bean_Dataset.xlsx\"\n",
    "beans = pd.read_excel(bean_data_file)\n",
    "\n",
    "# Labels are characters but should be integers for sklearn\n",
    "le = LabelEncoder()\n",
    "beans[\"Class\"] = le.fit_transform(beans[\"Class\"])\n",
    "\n",
    "# Split data into classification target and features\n",
    "y = beans[\"Class\"]\n",
    "X = beans.drop(\"Class\", axis = 1)\n",
    "\n",
    "# Split of training data\n",
    "X_train, X_rest1, y_train, y_rest1 = train_test_split(\n",
    "    X, y, train_size=10000, random_state=2)\n",
    "\n",
    "# From the remaining data, split of test data\n",
    "X_test, X_rest2, y_test, y_rest2 = train_test_split(\n",
    "X_rest1, y_rest1, train_size=1000, random_state=42)\n",
    "\n",
    "# Split remaining into calibration and \"new\" data\n",
    "X_calib, X_new, y_calib, y_new = train_test_split(\n",
    "X_rest2, y_rest2, train_size=1000, random_state=42\n",
    ")\n"
   ]
  },
  {
   "cell_type": "code",
   "execution_count": 7,
   "id": "612ea483-49c1-4e0e-82f4-0bca07ed14b6",
   "metadata": {},
   "outputs": [],
   "source": [
    "# Fit the model\n",
    "model = GaussianNB().fit(X_train, y_train)"
   ]
  },
  {
   "cell_type": "code",
   "execution_count": 8,
   "id": "c577c8f3-6b75-44b6-8f95-be5a25a217af",
   "metadata": {},
   "outputs": [],
   "source": [
    "from mapie.classification import MapieClassifier\n",
    "from mapie.metrics import classification_coverage_score\n",
    "from mapie.metrics import classification_mean_width_score"
   ]
  },
  {
   "cell_type": "markdown",
   "id": "e4a1dda4-8cd4-4f46-874d-f83395c4a51d",
   "metadata": {},
   "source": [
    "#### The naive method doesn’t work"
   ]
  },
  {
   "cell_type": "code",
   "execution_count": 9,
   "id": "61b3ab5b-8a66-4df7-b851-a51459a1cbd1",
   "metadata": {},
   "outputs": [],
   "source": [
    "# Initialize the MapieClassifier\n",
    "mapie_score = MapieClassifier(model, cv=\"prefit\", method=\"naive\")\n",
    "\n",
    "# Calibration step\n",
    "mapie_score.fit(X_train, y_train)\n",
    "\n",
    "# Prediction step\n",
    "y_pred, y_set = mapie_score.predict(X_new, alpha=0.05)\n",
    "\n",
    "# Removing the alpha-dimension\n",
    "y_set = np.squeeze(y_set)"
   ]
  },
  {
   "cell_type": "code",
   "execution_count": 10,
   "id": "b2b1395a-76ee-45f7-ac61-02fad04252cf",
   "metadata": {},
   "outputs": [
    {
     "name": "stdout",
     "output_type": "stream",
     "text": [
      "Coverage: 90.32%\n",
      "Avg. set size: 1.41\n"
     ]
    }
   ],
   "source": [
    "cov = classification_coverage_score(y_new, y_set)\n",
    "setsize = classification_mean_width_score(y_set)\n",
    "print('Coverage: {:.2%}'.format(cov))\n",
    "print('Avg. set size: {:.2f}'.format(setsize))"
   ]
  },
  {
   "cell_type": "markdown",
   "id": "12ed85e1-3326-41b6-81e8-395ae924ea54",
   "metadata": {},
   "source": [
    "####  Score method in MAPIE"
   ]
  },
  {
   "cell_type": "code",
   "execution_count": 11,
   "id": "6709dcd3-3da8-41df-b578-9116d57d38f0",
   "metadata": {},
   "outputs": [],
   "source": [
    "mapie_score = MapieClassifier(model, cv='prefit', method='score')\n",
    "mapie_score.fit(X_calib, y_calib)\n",
    "y_pred, y_set = mapie_score.predict(X_new, alpha=0.05)\n",
    "y_set = np.squeeze(y_set)"
   ]
  },
  {
   "cell_type": "code",
   "execution_count": 12,
   "id": "2ad9ebc0-c9cf-4cfa-9889-888408f2708f",
   "metadata": {},
   "outputs": [
    {
     "name": "stdout",
     "output_type": "stream",
     "text": [
      "Coverage: 96.28%\n",
      "Avg. set size: 1.83\n"
     ]
    }
   ],
   "source": [
    "cov = classification_coverage_score(y_new, y_set)\n",
    "setsize = classification_mean_width_score(y_set)\n",
    "print('Coverage: {:.2%}'.format(cov))\n",
    "print(\"Avg. set size: {:.2f}\".format(setsize))"
   ]
  },
  {
   "cell_type": "markdown",
   "id": "34c418cb-43eb-4c4f-a9c9-776706d1443f",
   "metadata": {},
   "source": [
    "####  The score method lacks adaptivity"
   ]
  },
  {
   "cell_type": "code",
   "execution_count": 13,
   "id": "be66cb95-0387-4914-bc7d-c0335faed1c1",
   "metadata": {},
   "outputs": [],
   "source": [
    "def class_wise_performance(y_new, y_set, classes):\n",
    "    df = pd.DataFrame()\n",
    "    # Loop through the classes\n",
    "    for i in range(len(classes)):\n",
    "        # Calculate the coverage and set size for the current class\n",
    "        ynew = y_new.values[y_new.values == i]\n",
    "        yscore = y_set[y_new.values == i]\n",
    "        cov = classification_coverage_score(ynew, yscore)\n",
    "        size = classification_mean_width_score(yscore)\n",
    "        \n",
    "        # Create a new dataframe with the calculated values\n",
    "        temp_df = pd.DataFrame({\n",
    "        \"class\": [classes[i]],\n",
    "        \"coverage\": [cov],\n",
    "        \"avg. set size\": [size]\n",
    "        }, index = [i])\n",
    "        \n",
    "        # Concatenate the new dataframe with the existing one\n",
    "        df = pd.concat([df, temp_df])\n",
    "    return(df)"
   ]
  },
  {
   "cell_type": "code",
   "execution_count": 14,
   "id": "66013766-b901-4816-9bce-6dae50452763",
   "metadata": {},
   "outputs": [
    {
     "name": "stdout",
     "output_type": "stream",
     "text": [
      "      class  coverage  avg. set size\n",
      "0  BARBUNYA  0.925287       2.137931\n",
      "1    BOMBAY  1.000000       1.000000\n",
      "2      CALI  0.965909       2.130682\n",
      "3  DERMASON  0.972906       1.463054\n",
      "4     HOROZ  0.938525       1.872951\n",
      "5     SEKER  0.970213       2.017021\n",
      "6      SIRA  0.974277       1.974277\n"
     ]
    }
   ],
   "source": [
    "print(class_wise_performance(y_new, y_set, le.classes_))"
   ]
  },
  {
   "cell_type": "code",
   "execution_count": 20,
   "id": "07125bc4-9ba5-4407-99a4-4e2197852e70",
   "metadata": {},
   "outputs": [
    {
     "name": "stdout",
     "output_type": "stream",
     "text": [
      "Coverage: 90.00%\n",
      "Exemplos de conjuntos de predição:\n",
      "Real: versicolor, Previsão: ['versicolor']\n",
      "Real: setosa, Previsão: ['setosa']\n",
      "Real: versicolor, Previsão: ['versicolor']\n",
      "Real: versicolor, Previsão: ['versicolor']\n",
      "Real: setosa, Previsão: ['setosa']\n"
     ]
    }
   ],
   "source": [
    "import numpy as np\n",
    "from sklearn.datasets import load_iris\n",
    "from sklearn.neighbors import KNeighborsClassifier\n",
    "from sklearn.model_selection import train_test_split\n",
    "from sklearn.metrics import accuracy_score\n",
    "\n",
    "# Carregar o dataset Iris\n",
    "data = load_iris()\n",
    "X = data.data\n",
    "y = data.target\n",
    "class_names = data.target_names\n",
    "\n",
    "# Dividir os dados em treino, calibração e teste\n",
    "X_train, X_temp, y_train, y_temp = train_test_split(X, y, test_size=0.4, random_state=42)\n",
    "X_calibration, X_test, y_calibration, y_test = train_test_split(X_temp, y_temp, test_size=0.5, random_state=42)\n",
    "\n",
    "# Treinar o modelo KNN\n",
    "knn = KNeighborsClassifier(n_neighbors=5)\n",
    "knn.fit(X_train, y_train)\n",
    "\n",
    "# Previsões e medidas de não conformidade no conjunto de calibração\n",
    "probs_calibration = knn.predict_proba(X_calibration)\n",
    "nonconformity_scores = 1 - np.array([probs_calibration[i, y_calibration[i]] for i in range(len(y_calibration))])\n",
    "\n",
    "# Definir o quantil de não conformidade para o nível de confiança desejado\n",
    "alpha = 0.1  # 90% de confiança\n",
    "quantile = np.quantile(nonconformity_scores, 1 - alpha)\n",
    "\n",
    "# Gerar conjuntos de predição para o conjunto de teste\n",
    "def conformal_prediction_knn(model, X, quantile):\n",
    "    probs = model.predict_proba(X)\n",
    "    prediction_sets = []\n",
    "    for prob in probs:\n",
    "        prediction_set = np.where(1 - prob <= quantile)[0]\n",
    "        prediction_sets.append(prediction_set)\n",
    "    return prediction_sets\n",
    "\n",
    "prediction_sets = conformal_prediction_knn(knn, X_test, quantile)\n",
    "\n",
    "# Avaliação\n",
    "correct_count = 0\n",
    "for i, pred_set in enumerate(prediction_sets):\n",
    "    if y_test[i] in pred_set:\n",
    "        correct_count += 1\n",
    "\n",
    "coverage = correct_count / len(y_test) * 100\n",
    "print(f\"Coverage: {coverage:.2f}%\")\n",
    "print(\"Exemplos de conjuntos de predição:\")\n",
    "for i in range(5):\n",
    "    print(f\"Real: {class_names[y_test[i]]}, Previsão: {[class_names[p] for p in prediction_sets[i]]}\")\n"
   ]
  },
  {
   "cell_type": "code",
   "execution_count": 1,
   "id": "27ff32f5-7fce-41b8-b5e3-78854501d4d8",
   "metadata": {},
   "outputs": [
    {
     "name": "stderr",
     "output_type": "stream",
     "text": [
      "C:\\Users\\f8011907\\AppData\\Local\\anaconda3\\Lib\\site-packages\\sklearn\\calibration.py:1000: FutureWarning: The normalize argument is deprecated in v1.1 and will be removed in v1.3. Explicitly normalizing y_prob will reproduce this behavior, but it is recommended that a proper probability is used (i.e. a classifier's `predict_proba` positive class or `decision_function` output calibrated with `CalibratedClassifierCV`).\n",
      "  warnings.warn(\n"
     ]
    },
    {
     "data": {
      "image/png": "[encoded data removed]",
      "text/plain": [
       "<Figure size 640x480 with 1 Axes>"
      ]
     },
     "metadata": {},
     "output_type": "display_data"
    }
   ],
   "source": [
    "# SVM reliability diagram\n",
    "from sklearn.datasets import make_classification\n",
    "from sklearn.svm import SVC\n",
    "from sklearn.model_selection import train_test_split\n",
    "from sklearn.calibration import calibration_curve\n",
    "from matplotlib import pyplot\n",
    "# generate 2 class dataset\n",
    "X, y = make_classification(n_samples=1000, n_classes=2, weights=[1,1], random_state=1)\n",
    "# split into train/test sets\n",
    "trainX, testX, trainy, testy = train_test_split(X, y, test_size=0.5, random_state=2)\n",
    "# fit a model\n",
    "model = SVC()\n",
    "model.fit(trainX, trainy)\n",
    "# predict probabilities\n",
    "probs = model.decision_function(testX)\n",
    "# reliability diagram\n",
    "fop, mpv = calibration_curve(testy, probs, n_bins=10, normalize=True)\n",
    "# plot perfectly calibrated\n",
    "pyplot.plot([0, 1], [0, 1], linestyle='--')\n",
    "# plot model reliability\n",
    "pyplot.plot(mpv, fop, marker='.')\n",
    "pyplot.show()"
   ]
  },
  {
   "cell_type": "code",
   "execution_count": 2,
   "id": "fee0972a-ffdd-4d1b-96cc-55e18acc05e2",
   "metadata": {},
   "outputs": [
    {
     "data": {
      "text/plain": [
       "array([0, 0, 1, 0, 0, 0, 0, 0, 1, 1, 0, 0, 0, 0, 0, 1, 1, 0, 1, 0, 1, 0,\n",
       "       1, 1, 0, 1, 0, 1, 1, 0, 1, 0, 1, 1, 0, 0, 0, 1, 1, 0, 1, 1, 1, 0,\n",
       "       1, 1, 1, 1, 0, 0, 0, 1, 0, 1, 1, 0, 0, 1, 0, 1, 0, 1, 1, 1, 0, 1,\n",
       "       1, 0, 0, 0, 0, 0, 1, 1, 0, 1, 0, 1, 0, 1, 0, 1, 0, 1, 0, 1, 0, 1,\n",
       "       1, 0, 0, 0, 1, 0, 1, 1, 1, 1, 0, 1, 1, 1, 1, 1, 1, 0, 1, 1, 0, 1,\n",
       "       0, 1, 0, 0, 1, 1, 0, 0, 0, 0, 1, 1, 1, 0, 0, 0, 1, 1, 0, 0, 1, 0,\n",
       "       1, 0, 1, 0, 0, 1, 1, 0, 0, 0, 1, 1, 1, 0, 1, 1, 0, 1, 0, 1, 0, 1,\n",
       "       0, 1, 1, 1, 1, 0, 1, 1, 0, 1, 0, 1, 0, 1, 1, 1, 1, 0, 0, 1, 1, 1,\n",
       "       1, 1, 0, 0, 0, 1, 0, 0, 0, 0, 1, 1, 1, 1, 0, 0, 1, 1, 1, 0, 1, 1,\n",
       "       0, 0, 0, 1, 1, 0, 0, 1, 1, 0, 1, 1, 1, 0, 0, 0, 0, 0, 0, 1, 1, 0,\n",
       "       0, 0, 0, 0, 0, 1, 0, 0, 0, 0, 1, 1, 0, 1, 1, 1, 0, 1, 0, 1, 1, 1,\n",
       "       1, 0, 1, 1, 0, 1, 0, 1, 1, 1, 1, 1, 0, 0, 1, 0, 0, 1, 1, 0, 1, 1,\n",
       "       1, 1, 0, 1, 1, 1, 1, 1, 1, 1, 0, 0, 0, 0, 0, 0, 0, 0, 0, 0, 0, 0,\n",
       "       0, 0, 0, 1, 1, 1, 0, 1, 0, 1, 0, 0, 0, 0, 0, 0, 0, 1, 1, 0, 1, 1,\n",
       "       1, 1, 1, 0, 0, 1, 0, 1, 0, 1, 1, 1, 1, 0, 1, 0, 1, 0, 0, 0, 0, 1,\n",
       "       1, 1, 1, 0, 1, 1, 1, 0, 0, 1, 1, 1, 1, 1, 0, 1, 0, 1, 0, 0, 1, 1,\n",
       "       0, 1, 0, 0, 0, 1, 1, 1, 0, 0, 0, 0, 1, 1, 1, 1, 0, 0, 0, 1, 0, 0,\n",
       "       1, 1, 0, 1, 0, 0, 1, 1, 0, 1, 0, 1, 0, 0, 0, 0, 1, 0, 1, 0, 1, 1,\n",
       "       0, 1, 0, 0, 0, 1, 1, 0, 0, 1, 0, 0, 1, 0, 1, 1, 1, 0, 1, 1, 1, 0,\n",
       "       0, 1, 1, 1, 1, 0, 0, 0, 1, 0, 0, 0, 0, 1, 1, 1, 0, 1, 0, 1, 1, 1,\n",
       "       1, 1, 0, 0, 0, 1, 1, 1, 1, 0, 0, 1, 0, 1, 1, 0, 0, 0, 0, 0, 1, 0,\n",
       "       1, 0, 0, 1, 1, 0, 1, 0, 1, 1, 0, 0, 0, 0, 1, 0, 1, 1, 0, 0, 1, 1,\n",
       "       0, 1, 0, 0, 1, 0, 1, 0, 0, 0, 0, 1, 0, 1, 1, 0, 1, 0, 1, 1, 1, 0,\n",
       "       0, 0, 1, 0, 0, 0, 1, 0, 0, 1, 1, 0, 0, 1, 1, 1, 1, 1, 1, 1, 0, 1,\n",
       "       1, 1, 1, 1, 0, 0, 0, 0, 0, 1, 1, 1, 0, 1, 0, 0, 0, 0, 0, 1, 1, 0,\n",
       "       1, 1, 1, 1, 0, 0, 1, 0, 0, 1, 0, 0, 0, 1, 0, 1, 0, 1, 1, 1, 1, 0,\n",
       "       1, 0, 0, 1, 0, 0, 1, 0, 1, 1, 0, 1, 1, 0, 0, 1, 1, 1, 0, 0, 1, 1,\n",
       "       1, 0, 0, 0, 1, 0, 1, 0, 1, 0, 0, 1, 1, 1, 0, 0, 0, 1, 0, 0, 0, 1,\n",
       "       1, 0, 0, 1, 1, 0, 0, 1, 0, 1, 1, 0, 0, 0, 1, 0, 0, 0, 1, 1, 0, 0,\n",
       "       1, 0, 1, 1, 1, 1, 1, 1, 0, 1, 1, 0, 0, 1, 0, 0, 1, 1, 0, 1, 1, 1,\n",
       "       0, 1, 0, 1, 0, 0, 1, 0, 1, 0, 0, 0, 0, 0, 0, 1, 1, 1, 0, 1, 0, 0,\n",
       "       1, 0, 1, 0, 0, 1, 1, 0, 0, 0, 1, 1, 0, 0, 0, 0, 0, 0, 1, 0, 0, 1,\n",
       "       1, 0, 0, 1, 0, 1, 1, 1, 0, 0, 1, 0, 1, 1, 0, 1, 1, 0, 0, 1, 1, 0,\n",
       "       1, 1, 0, 1, 1, 1, 0, 0, 0, 0, 1, 0, 1, 1, 1, 0, 0, 0, 1, 0, 1, 0,\n",
       "       0, 0, 0, 1, 0, 1, 1, 0, 1, 1, 1, 0, 0, 1, 0, 0, 0, 1, 1, 0, 0, 1,\n",
       "       1, 1, 1, 1, 1, 1, 0, 0, 0, 0, 0, 0, 1, 1, 0, 0, 0, 0, 1, 0, 0, 0,\n",
       "       1, 0, 0, 1, 1, 1, 0, 0, 0, 1, 0, 0, 1, 1, 1, 1, 1, 1, 1, 0, 0, 1,\n",
       "       1, 1, 1, 0, 1, 1, 0, 1, 0, 1, 1, 0, 1, 0, 1, 0, 0, 0, 0, 1, 1, 0,\n",
       "       0, 0, 1, 1, 0, 1, 0, 0, 0, 1, 1, 1, 0, 0, 0, 0, 1, 1, 1, 1, 1, 1,\n",
       "       1, 1, 1, 1, 1, 1, 1, 1, 1, 1, 1, 0, 1, 0, 0, 1, 0, 1, 0, 1, 0, 0,\n",
       "       1, 0, 1, 0, 0, 0, 1, 0, 1, 1, 1, 1, 0, 1, 1, 0, 0, 1, 0, 0, 0, 0,\n",
       "       1, 0, 0, 1, 0, 1, 1, 0, 0, 1, 0, 0, 1, 0, 0, 0, 0, 1, 1, 1, 1, 1,\n",
       "       0, 0, 1, 1, 1, 1, 1, 1, 0, 0, 1, 0, 0, 0, 0, 1, 0, 1, 0, 0, 1, 0,\n",
       "       0, 0, 1, 0, 1, 0, 0, 1, 1, 0, 0, 1, 1, 0, 0, 0, 1, 1, 0, 0, 0, 1,\n",
       "       0, 0, 0, 1, 1, 1, 1, 0, 0, 0, 0, 0, 1, 1, 0, 1, 0, 0, 1, 1, 0, 0,\n",
       "       0, 1, 1, 1, 0, 0, 1, 0, 1, 0])"
      ]
     },
     "execution_count": 2,
     "metadata": {},
     "output_type": "execute_result"
    }
   ],
   "source": [
    "y"
   ]
  },
  {
   "cell_type": "code",
   "execution_count": 3,
   "id": "7ac1e85b-9d3b-4e5d-a9ca-31869356502d",
   "metadata": {},
   "outputs": [
    {
     "data": {
      "text/plain": [
       "array([ 1.12655553,  1.38017914,  1.39626156,  0.72631863,  0.05631845,\n",
       "        0.91204842,  1.38133922, -2.15704409,  2.14944859,  0.13190442,\n",
       "        0.72913324,  0.68532964,  0.30421552,  0.46923372,  0.96973657,\n",
       "        0.433009  , -0.92870727, -0.69755218,  0.96081918, -2.12781011,\n",
       "       -1.39680965,  0.24659962, -0.12227344,  1.55160341, -0.25737121,\n",
       "       -2.04958319, -1.27810004,  0.99406691, -0.30810766, -0.14845469,\n",
       "        0.61760458, -0.31256519,  0.27085245, -2.05865739,  0.94140148,\n",
       "        1.43318303,  0.591351  ,  1.58049893, -1.27774716,  0.55049003,\n",
       "        1.19442811, -0.3132503 ,  0.78781313,  0.29659777,  0.67487947,\n",
       "       -2.0693828 ,  0.34245132,  0.51320125, -1.63531415, -1.37501403,\n",
       "        0.44539057,  1.18111296,  1.58472428,  1.26223411, -1.20622974,\n",
       "       -0.71030471, -1.77138483,  0.66634576, -1.97556981,  0.02228336,\n",
       "       -1.64746975,  0.94719201, -0.00551686,  1.38651404, -1.90594681,\n",
       "        0.19994453,  0.1008302 , -2.31497664, -0.47556433,  1.38994637,\n",
       "       -1.46701825, -0.96267449,  1.71035899,  1.84793259,  0.12470475,\n",
       "        2.16975232,  0.47766227,  0.89928453,  0.60459607, -1.83844449,\n",
       "        0.70033682, -1.87827495, -0.07108764, -1.93312469,  0.94088338,\n",
       "        0.86491294, -1.32844684,  0.11281547, -1.6113832 ,  1.31161362,\n",
       "        0.32274583, -0.7673102 , -0.90124722, -1.5195264 , -1.58987231,\n",
       "        1.4419575 , -1.81784989, -1.60768878,  1.35813699,  0.1086091 ,\n",
       "        0.02854942, -1.16023573, -0.29995098, -1.4782402 , -0.78591416,\n",
       "        1.05483732,  1.14090889,  1.31256022,  0.87366401,  1.53017365,\n",
       "       -0.95576489, -2.24900945, -0.68683056,  0.08218576,  0.60017972,\n",
       "        1.57830171,  0.91419155,  1.42299602, -1.065479  ,  1.59332387,\n",
       "        1.45399682,  1.73545942, -0.09087172, -0.80972416, -0.43544205,\n",
       "       -0.96052354, -0.16183081,  0.40137587,  0.64391739, -2.24632777,\n",
       "        1.25707075, -0.35993766, -1.30236161, -0.97263432, -1.13297395,\n",
       "       -1.76239836, -0.40397424, -1.28977543,  1.21754222, -0.07542288,\n",
       "       -0.44644872,  1.99938854, -0.7088988 ,  1.18544457, -2.46295562,\n",
       "       -2.48506131, -1.06544823, -0.70613482,  1.01941187, -1.16556137,\n",
       "       -0.68169728,  0.87195621,  0.52199369,  0.66690445,  1.4460101 ,\n",
       "       -0.99650141,  2.18632935, -0.6029287 , -1.19767402, -1.04969463,\n",
       "       -0.63648294, -2.66868873, -1.88399905, -2.33211039,  0.01337353,\n",
       "        0.69974642,  1.93196126,  0.43540382, -1.677052  , -1.47977797,\n",
       "       -1.81731243,  0.39999596, -1.11636404, -1.81396036, -1.98604764,\n",
       "       -0.87327233, -1.6562015 ,  0.71272003,  1.76499991, -0.92988411,\n",
       "       -1.75986564,  0.87367844, -1.09282827, -0.4138878 , -2.22135309,\n",
       "       -1.47662406, -0.92952605, -0.15217039, -2.20085495,  1.35422808,\n",
       "       -1.35797507,  0.97395722, -2.37738568,  0.42929604,  0.31298263,\n",
       "        0.52109409,  1.91931258,  1.41999582,  1.12761965,  1.35264519,\n",
       "        1.34929179,  1.04536281,  1.31879268, -1.35514121, -2.1110113 ,\n",
       "       -2.0789905 , -1.28076433,  0.56453068, -1.06925387, -0.14907118,\n",
       "       -0.83193151,  0.01911436,  0.56299043, -2.00768216,  1.19225133,\n",
       "        1.19272458,  0.38729883, -1.76483724,  1.85860879,  2.30186094,\n",
       "        1.06058162, -1.99812235, -1.39757348,  0.61509446,  1.29060552,\n",
       "        0.49516256,  1.68587542,  0.77093987, -1.82666935, -0.393118  ,\n",
       "       -1.96119655,  0.62943472,  0.41727367,  1.2448959 ,  1.34771413,\n",
       "        0.55615885, -1.25943244, -0.94013545,  0.18067706,  1.04883665,\n",
       "        1.73153112,  1.27923954,  0.79352717, -1.34646629, -1.807399  ,\n",
       "       -0.07646977,  1.08049031, -1.01657108,  0.899762  ,  1.22709145,\n",
       "       -1.38289538,  1.45647246, -2.46191704,  1.17498916,  1.27664346,\n",
       "        1.15886324, -2.43941199,  0.70469931, -0.76474146, -1.38539495,\n",
       "       -2.30811336, -2.02233837, -2.46221139,  0.41107806,  0.61728475,\n",
       "        0.23956731,  0.57292078,  1.12793953,  0.38702057, -0.69016796,\n",
       "       -0.91314137, -0.68339354,  1.67986521, -1.87786745, -0.64342505,\n",
       "        1.81626623,  0.83295593, -1.79377276, -0.71766059,  0.951338  ,\n",
       "        0.61515279, -1.69210539,  0.61936343,  0.44059377,  1.84059929,\n",
       "        0.44416367,  0.88697252, -0.02482184,  1.04873793, -2.12420673,\n",
       "       -1.42864655, -1.19859438,  0.87701487,  0.70901078, -1.93691441,\n",
       "        0.77315564,  0.27733486, -0.15755637,  0.46275518, -2.00534464,\n",
       "       -1.77435471, -0.99187666,  1.52967799,  0.42499819,  2.1805439 ,\n",
       "        0.98878112, -1.32353253,  0.93250774,  1.66317215,  0.75546875,\n",
       "        1.58291356,  0.27022163,  0.99866374,  2.1574659 ,  0.41361647,\n",
       "        0.73204877, -0.211563  , -1.4386033 ,  1.28937634,  1.03141192,\n",
       "        1.72513243,  0.42572043,  1.26478924, -1.12642471, -2.42105314,\n",
       "        0.86423937, -1.25595869,  1.13638938, -0.52812002,  0.96644148,\n",
       "        1.50646526,  0.48092278,  0.96842843,  1.56920993, -1.86214378,\n",
       "        1.62818735,  1.02747754, -1.83478454,  0.56116041, -0.27700144,\n",
       "        0.94685615,  0.53808386,  0.17495002, -0.73380491,  0.80135447,\n",
       "        0.92969662, -1.07497797,  0.61329325,  0.5064003 ,  1.1640776 ,\n",
       "        0.76507162,  1.46741611, -1.7203268 , -2.2918597 , -0.93483457,\n",
       "       -1.45400452, -1.56867465,  0.30583277,  1.25458375,  0.19156241,\n",
       "       -1.15326767, -2.11125961,  0.46236812,  0.67604097,  0.76995077,\n",
       "       -1.99623021, -1.61270021, -1.70827315,  0.87602954,  1.17093989,\n",
       "       -2.03223646,  0.94292431,  0.8442684 ,  1.11521075,  1.68793107,\n",
       "       -0.19435842, -0.609446  ,  1.75134361, -1.4365799 ,  1.37323029,\n",
       "        1.27850295, -2.0894016 ,  2.10287707, -0.19021584, -1.11849876,\n",
       "       -1.87305865, -0.01495546, -1.66029778,  0.67994133,  1.71635074,\n",
       "       -0.17309222,  1.88862421, -1.8307214 ,  0.86920426,  0.89347892,\n",
       "       -1.24257924,  0.96889989,  1.20803495,  0.36394328, -0.64147553,\n",
       "        0.59472275,  0.46077287,  1.15160015, -0.68789612, -2.13003204,\n",
       "       -1.88360514,  0.33874632, -1.45764636,  1.02325175,  1.15919747,\n",
       "       -1.50179561,  1.11486082, -1.285615  ,  1.15586126,  1.09293116,\n",
       "       -2.03390788, -1.15296303, -0.33606278,  0.17246828, -2.07182575,\n",
       "        1.33274386, -0.20471133, -1.0076279 ,  0.76875407, -0.00481035,\n",
       "        1.10434554, -1.83796799, -0.25457755,  0.18252668,  0.69657937,\n",
       "       -0.22175678,  0.96797575, -2.39654099,  0.6550315 , -2.57120807,\n",
       "       -1.45693129, -2.02572154, -0.78364115,  0.79894764, -1.2099198 ,\n",
       "       -0.07954547, -2.61364658,  1.04558767, -1.09203335, -0.25668579,\n",
       "        1.4193569 ,  0.5514063 , -1.15357459, -1.92640889, -1.04122734,\n",
       "        0.06458608,  0.96927511,  0.78502851, -1.8542914 ,  0.57763312,\n",
       "       -0.5218259 ,  0.89164619, -2.00551661,  1.96583088, -0.49288208,\n",
       "        1.49894563,  0.90866305, -1.47686331,  0.53755787,  1.89401779,\n",
       "       -0.10487566,  1.47566645, -1.77005061, -0.43111745,  0.1212766 ,\n",
       "       -2.92241977, -1.13382778,  0.87596533,  0.26678429, -0.35542536,\n",
       "       -1.28010709, -1.03461783, -2.26238678, -1.12719951, -0.04652724,\n",
       "       -0.78165782,  0.51366419, -2.56080536, -0.14548269,  0.79190058,\n",
       "        1.14910053,  1.10635538, -1.48175835,  1.39997332,  0.69911828,\n",
       "        1.72497821,  0.7576506 , -1.50552645, -0.20114245,  1.18741314,\n",
       "        1.27534923, -1.55033694,  0.88267807, -0.24072453, -1.02997435])"
      ]
     },
     "execution_count": 3,
     "metadata": {},
     "output_type": "execute_result"
    }
   ],
   "source": [
    "probs"
   ]
  },
  {
   "cell_type": "code",
   "execution_count": 4,
   "id": "6519847f-f9e0-4b71-bca5-3345e1a1dd51",
   "metadata": {},
   "outputs": [
    {
     "data": {
      "text/plain": [
       "array([0.        , 0.        , 0.01818182, 0.01851852, 0.05263158,\n",
       "       0.41176471, 0.8       , 0.91304348, 0.91525424, 0.88235294])"
      ]
     },
     "execution_count": 4,
     "metadata": {},
     "output_type": "execute_result"
    }
   ],
   "source": [
    "fop"
   ]
  },
  {
   "cell_type": "code",
   "execution_count": 5,
   "id": "28ea6875-c378-4a72-9372-3dc41d096db6",
   "metadata": {},
   "outputs": [
    {
     "data": {
      "text/plain": [
       "array([0.07094911, 0.16028854, 0.24944287, 0.34694131, 0.44563833,\n",
       "       0.54875397, 0.65770546, 0.74922712, 0.84153933, 0.94459338])"
      ]
     },
     "execution_count": 5,
     "metadata": {},
     "output_type": "execute_result"
    }
   ],
   "source": [
    "mpv"
   ]
  },
  {
   "cell_type": "code",
   "execution_count": null,
   "id": "f9a7b1fd-b51e-4233-8b0c-d98b3334a0c6",
   "metadata": {},
   "outputs": [],
   "source": []
  }
 ],
 "metadata": {
  "kernelspec": {
   "display_name": "Python 3 (ipykernel)",
   "language": "python",
   "name": "python3"
  },
  "language_info": {
   "codemirror_mode": {
    "name": "ipython",
    "version": 3
   },
   "file_extension": ".py",
   "mimetype": "text/x-python",
   "name": "python",
   "nbconvert_exporter": "python",
   "pygments_lexer": "ipython3",
   "version": "3.11.7"
  }
 },
 "nbformat": 4,
 "nbformat_minor": 5
}
